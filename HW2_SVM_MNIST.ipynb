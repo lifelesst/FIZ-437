{
  "nbformat": 4,
  "nbformat_minor": 0,
  "metadata": {
    "colab": {
      "name": "HW2_SVM_MNIST.ipynb",
      "provenance": [],
      "collapsed_sections": []
    },
    "kernelspec": {
      "name": "python3",
      "display_name": "Python 3"
    },
    "language_info": {
      "name": "python"
    }
  },
  "cells": [
    {
      "cell_type": "code",
      "metadata": {
        "id": "Vz9eQv7iqQrr"
      },
      "source": [
        "from sklearn.datasets import fetch_openml\n",
        "from sklearn import metrics, svm\n",
        "\n",
        "X, y = fetch_openml('mnist_784', version=1, return_X_y=True)\n",
        "X = X /255.0\n",
        "x_train, x_test, y_train, y_test = X[:60000], X[60000:70000], y[:60000], y[60000:70000]\n",
        "C_reg = 1\n",
        "C_noreg = 1000\n"
      ],
      "execution_count": 1,
      "outputs": []
    },
    {
      "cell_type": "code",
      "metadata": {
        "colab": {
          "base_uri": "https://localhost:8080/"
        },
        "id": "vWQ0OKhPqlo1",
        "outputId": "81654301-7468-464f-dbd2-e1db182dfd81"
      },
      "source": [
        "classifier_reg = svm.SVC(C=C_reg,gamma=\"auto\")\n",
        "classifier_reg.fit(x_train, y_train)\n",
        "classifier_predicted_reg = classifier_reg.predict(x_test)\n",
        "\n",
        "print(\"SVM with regularization accuracy:  %\", 100*metrics.accuracy_score(y_test, classifier_predicted_reg), \"\\n\")\n"
      ],
      "execution_count": 2,
      "outputs": [
        {
          "output_type": "stream",
          "name": "stdout",
          "text": [
            "SVM with regularization accuracy:  % 94.46 \n",
            "\n"
          ]
        }
      ]
    },
    {
      "cell_type": "code",
      "metadata": {
        "colab": {
          "base_uri": "https://localhost:8080/"
        },
        "id": "l6ctE06aquXN",
        "outputId": "27d68488-2bc3-42cd-97e6-78bc5bef5560"
      },
      "source": [
        "classifier_noreg = svm.SVC(C=C_noreg,gamma=\"auto\")\n",
        "classifier_noreg.fit(x_train, y_train)\n",
        "classifier_predicted_noreg = classifier_noreg.predict(x_test)\n",
        "\n",
        "print(\"SVM without regularization accuracy:  %\", 100*metrics.accuracy_score(y_test, classifier_predicted_noreg), \"\\n\")"
      ],
      "execution_count": 3,
      "outputs": [
        {
          "output_type": "stream",
          "name": "stdout",
          "text": [
            "SVM without regularization accuracy:  % 97.5 \n",
            "\n"
          ]
        }
      ]
    }
  ]
}