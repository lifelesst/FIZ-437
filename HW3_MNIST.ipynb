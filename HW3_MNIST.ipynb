{
  "nbformat": 4,
  "nbformat_minor": 0,
  "metadata": {
    "colab": {
      "name": "Untitled0.ipynb",
      "provenance": [],
      "collapsed_sections": []
    },
    "kernelspec": {
      "name": "python3",
      "display_name": "Python 3"
    },
    "language_info": {
      "name": "python"
    }
  },
  "cells": [
    {
      "cell_type": "code",
      "metadata": {
        "colab": {
          "base_uri": "https://localhost:8080/"
        },
        "id": "TqD0ejBlSebB",
        "outputId": "f560e711-c6f4-46ad-ac4f-41ade9d5ab08"
      },
      "source": [
        "import matplotlib.pyplot as plt\n",
        "from tensorflow import keras\n",
        "from keras.datasets import mnist\n",
        "from tensorflow.keras import layers\n",
        "\n",
        "(x_train, y_train), (x_test, y_test) = mnist.load_data()\n",
        "x_train = x_train.reshape(60000, 28*28)\n",
        "x_test = x_test.reshape(10000, 28*28)\n",
        "x_train = x_train.astype('float32')\n",
        "x_test = x_test.astype('float32')\n",
        "# normalize\n",
        "x_train /= 255\n",
        "x_test /= 255\n",
        "\n",
        "num_classes = 10\n",
        "model = keras.Sequential(\n",
        "    [\n",
        "        layers.Dense(32, input_shape=(28 * 28,), activation='relu'),\n",
        "        layers.Dense(8, activation='relu'),\n",
        "        layers.Dense(num_classes, activation='softmax')\n",
        "    ]\n",
        ")\n",
        "model.compile(optimizer='adam', loss='sparse_categorical_crossentropy', metrics=['accuracy'])\n",
        "epochs = 40\n",
        "\n",
        "history = model.fit(x_train, y_train,epochs=epochs,validation_split=0.2)"
      ],
      "execution_count": 9,
      "outputs": [
        {
          "output_type": "stream",
          "name": "stdout",
          "text": [
            "Epoch 1/40\n",
            "1500/1500 [==============================] - 4s 2ms/step - loss: 0.4808 - accuracy: 0.8574 - val_loss: 0.2575 - val_accuracy: 0.9283\n",
            "Epoch 2/40\n",
            "1500/1500 [==============================] - 3s 2ms/step - loss: 0.2313 - accuracy: 0.9346 - val_loss: 0.2028 - val_accuracy: 0.9408\n",
            "Epoch 3/40\n",
            "1500/1500 [==============================] - 3s 2ms/step - loss: 0.1849 - accuracy: 0.9469 - val_loss: 0.1838 - val_accuracy: 0.9474\n",
            "Epoch 4/40\n",
            "1500/1500 [==============================] - 3s 2ms/step - loss: 0.1579 - accuracy: 0.9533 - val_loss: 0.1725 - val_accuracy: 0.9517\n",
            "Epoch 5/40\n",
            "1500/1500 [==============================] - 3s 2ms/step - loss: 0.1383 - accuracy: 0.9594 - val_loss: 0.1557 - val_accuracy: 0.9570\n",
            "Epoch 6/40\n",
            "1500/1500 [==============================] - 3s 2ms/step - loss: 0.1232 - accuracy: 0.9640 - val_loss: 0.1585 - val_accuracy: 0.9541\n",
            "Epoch 7/40\n",
            "1500/1500 [==============================] - 3s 2ms/step - loss: 0.1108 - accuracy: 0.9667 - val_loss: 0.1677 - val_accuracy: 0.9516\n",
            "Epoch 8/40\n",
            "1500/1500 [==============================] - 3s 2ms/step - loss: 0.1022 - accuracy: 0.9694 - val_loss: 0.1484 - val_accuracy: 0.9594\n",
            "Epoch 9/40\n",
            "1500/1500 [==============================] - 3s 2ms/step - loss: 0.0945 - accuracy: 0.9720 - val_loss: 0.1504 - val_accuracy: 0.9578\n",
            "Epoch 10/40\n",
            "1500/1500 [==============================] - 3s 2ms/step - loss: 0.0878 - accuracy: 0.9732 - val_loss: 0.1592 - val_accuracy: 0.9563\n",
            "Epoch 11/40\n",
            "1500/1500 [==============================] - 3s 2ms/step - loss: 0.0816 - accuracy: 0.9755 - val_loss: 0.1433 - val_accuracy: 0.9607\n",
            "Epoch 12/40\n",
            "1500/1500 [==============================] - 3s 2ms/step - loss: 0.0764 - accuracy: 0.9763 - val_loss: 0.1489 - val_accuracy: 0.9592\n",
            "Epoch 13/40\n",
            "1500/1500 [==============================] - 3s 2ms/step - loss: 0.0724 - accuracy: 0.9778 - val_loss: 0.1443 - val_accuracy: 0.9613\n",
            "Epoch 14/40\n",
            "1500/1500 [==============================] - 3s 2ms/step - loss: 0.0696 - accuracy: 0.9784 - val_loss: 0.1414 - val_accuracy: 0.9617\n",
            "Epoch 15/40\n",
            "1500/1500 [==============================] - 3s 2ms/step - loss: 0.0654 - accuracy: 0.9797 - val_loss: 0.1473 - val_accuracy: 0.9605\n",
            "Epoch 16/40\n",
            "1500/1500 [==============================] - 3s 2ms/step - loss: 0.0606 - accuracy: 0.9816 - val_loss: 0.1588 - val_accuracy: 0.9605\n",
            "Epoch 17/40\n",
            "1500/1500 [==============================] - 3s 2ms/step - loss: 0.0592 - accuracy: 0.9819 - val_loss: 0.1559 - val_accuracy: 0.9622\n",
            "Epoch 18/40\n",
            "1500/1500 [==============================] - 3s 2ms/step - loss: 0.0562 - accuracy: 0.9829 - val_loss: 0.1526 - val_accuracy: 0.9626\n",
            "Epoch 19/40\n",
            "1500/1500 [==============================] - 3s 2ms/step - loss: 0.0529 - accuracy: 0.9837 - val_loss: 0.1552 - val_accuracy: 0.9599\n",
            "Epoch 20/40\n",
            "1500/1500 [==============================] - 3s 2ms/step - loss: 0.0506 - accuracy: 0.9846 - val_loss: 0.1585 - val_accuracy: 0.9609\n",
            "Epoch 21/40\n",
            "1500/1500 [==============================] - 3s 2ms/step - loss: 0.0475 - accuracy: 0.9853 - val_loss: 0.1763 - val_accuracy: 0.9570\n",
            "Epoch 22/40\n",
            "1500/1500 [==============================] - 3s 2ms/step - loss: 0.0464 - accuracy: 0.9858 - val_loss: 0.1664 - val_accuracy: 0.9600\n",
            "Epoch 23/40\n",
            "1500/1500 [==============================] - 3s 2ms/step - loss: 0.0433 - accuracy: 0.9863 - val_loss: 0.1708 - val_accuracy: 0.9603\n",
            "Epoch 24/40\n",
            "1500/1500 [==============================] - 3s 2ms/step - loss: 0.0409 - accuracy: 0.9877 - val_loss: 0.1759 - val_accuracy: 0.9567\n",
            "Epoch 25/40\n",
            "1500/1500 [==============================] - 3s 2ms/step - loss: 0.0400 - accuracy: 0.9872 - val_loss: 0.1788 - val_accuracy: 0.9590\n",
            "Epoch 26/40\n",
            "1500/1500 [==============================] - 3s 2ms/step - loss: 0.0388 - accuracy: 0.9881 - val_loss: 0.1821 - val_accuracy: 0.9586\n",
            "Epoch 27/40\n",
            "1500/1500 [==============================] - 3s 2ms/step - loss: 0.0379 - accuracy: 0.9881 - val_loss: 0.1714 - val_accuracy: 0.9601\n",
            "Epoch 28/40\n",
            "1500/1500 [==============================] - 3s 2ms/step - loss: 0.0352 - accuracy: 0.9889 - val_loss: 0.1879 - val_accuracy: 0.9582\n",
            "Epoch 29/40\n",
            "1500/1500 [==============================] - 3s 2ms/step - loss: 0.0342 - accuracy: 0.9891 - val_loss: 0.1909 - val_accuracy: 0.9574\n",
            "Epoch 30/40\n",
            "1500/1500 [==============================] - 3s 2ms/step - loss: 0.0325 - accuracy: 0.9893 - val_loss: 0.1881 - val_accuracy: 0.9611\n",
            "Epoch 31/40\n",
            "1500/1500 [==============================] - 3s 2ms/step - loss: 0.0323 - accuracy: 0.9892 - val_loss: 0.1862 - val_accuracy: 0.9586\n",
            "Epoch 32/40\n",
            "1500/1500 [==============================] - 3s 2ms/step - loss: 0.0296 - accuracy: 0.9911 - val_loss: 0.1897 - val_accuracy: 0.9607\n",
            "Epoch 33/40\n",
            "1500/1500 [==============================] - 3s 2ms/step - loss: 0.0300 - accuracy: 0.9904 - val_loss: 0.1985 - val_accuracy: 0.9581\n",
            "Epoch 34/40\n",
            "1500/1500 [==============================] - 3s 2ms/step - loss: 0.0276 - accuracy: 0.9912 - val_loss: 0.2040 - val_accuracy: 0.9577\n",
            "Epoch 35/40\n",
            "1500/1500 [==============================] - 3s 2ms/step - loss: 0.0261 - accuracy: 0.9915 - val_loss: 0.1976 - val_accuracy: 0.9605\n",
            "Epoch 36/40\n",
            "1500/1500 [==============================] - 3s 2ms/step - loss: 0.0256 - accuracy: 0.9913 - val_loss: 0.2080 - val_accuracy: 0.9597\n",
            "Epoch 37/40\n",
            "1500/1500 [==============================] - 3s 2ms/step - loss: 0.0257 - accuracy: 0.9917 - val_loss: 0.2117 - val_accuracy: 0.9583\n",
            "Epoch 38/40\n",
            "1500/1500 [==============================] - 3s 2ms/step - loss: 0.0246 - accuracy: 0.9920 - val_loss: 0.2098 - val_accuracy: 0.9605\n",
            "Epoch 39/40\n",
            "1500/1500 [==============================] - 3s 2ms/step - loss: 0.0232 - accuracy: 0.9925 - val_loss: 0.2081 - val_accuracy: 0.9604\n",
            "Epoch 40/40\n",
            "1500/1500 [==============================] - 3s 2ms/step - loss: 0.0224 - accuracy: 0.9929 - val_loss: 0.2201 - val_accuracy: 0.9593\n"
          ]
        }
      ]
    },
    {
      "cell_type": "code",
      "metadata": {
        "colab": {
          "base_uri": "https://localhost:8080/",
          "height": 439
        },
        "id": "JdM56gzuShQw",
        "outputId": "c9cd3ad0-8380-4969-acbd-f9ae86b60c9f"
      },
      "source": [
        "def show_train_history(train_history):\n",
        "    fig = plt.gcf()\n",
        "    fig.set_size_inches(16, 6)\n",
        "    plt.subplot(121)\n",
        "\n",
        "    if \"loss\" in train_history.history.keys():\n",
        "        plt.plot(train_history.history[\"loss\"])\n",
        "        \n",
        "    if \"val_loss\" in train_history.history.keys():\n",
        "        plt.plot(train_history.history[\"val_loss\"])\n",
        "\n",
        "    plt.title(\"Train History\")\n",
        "    plt.xlabel(\"Epoch\")\n",
        "    plt.xticks(range(1,41,3))\n",
        "    plt.ylabel(\"Loss\")\n",
        "    plt.legend([\"train\", \"test\"], loc=\"upper left\")\n",
        "    plt.show()\n",
        "\n",
        "scores, acc = model.evaluate(x_test, y_test, verbose=0)\n",
        "print('Test loss:', scores)\n",
        "print('Test accuracy:  %', 100*acc)\n",
        "show_train_history(history)"
      ],
      "execution_count": 11,
      "outputs": [
        {
          "output_type": "stream",
          "name": "stdout",
          "text": [
            "Test loss: 0.18171897530555725\n",
            "Test accuracy:  % 96.24000191688538\n"
          ]
        },
        {
          "output_type": "display_data",
          "data": {
            "image/png": "[encoded data removed]",
            "text/plain": [
              "<Figure size 1152x432 with 1 Axes>"
            ]
          },
          "metadata": {
            "needs_background": "light"
          }
        }
      ]
    },
    {
      "cell_type": "code",
      "metadata": {
        "colab": {
          "base_uri": "https://localhost:8080/"
        },
        "id": "-PBrBfTl61Ap",
        "outputId": "f68340ff-de91-40a2-a5fd-644c2e960dfb"
      },
      "source": [
        "from sklearn.datasets import fetch_openml\n",
        "from sklearn import metrics, svm\n",
        "\n",
        "X, y = fetch_openml('mnist_784', version=1, return_X_y=True)\n",
        "X = X /255.0\n",
        "x_train, x_test, y_train, y_test = X[:60000], X[60000:70000], y[:60000], y[60000:70000]\n",
        "C_reg = 1\n",
        "\n",
        "classifier_reg = svm.SVC(C=C_reg,gamma=\"auto\")\n",
        "classifier_reg.fit(x_train, y_train)\n",
        "classifier_predicted_reg = classifier_reg.predict(x_test)\n",
        "\n",
        "print(\"SVM:  %\", 100*metrics.accuracy_score(y_test, classifier_predicted_reg), \"\\n\")"
      ],
      "execution_count": 12,
      "outputs": [
        {
          "output_type": "stream",
          "name": "stdout",
          "text": [
            "SVM with regularization accuracy:  % 94.46 \n",
            "\n"
          ]
        }
      ]
    },
    {
      "cell_type": "code",
      "metadata": {
        "colab": {
          "base_uri": "https://localhost:8080/",
          "height": 268
        },
        "id": "R1-Z89uj7GK0",
        "outputId": "63c68259-2684-4ee2-c656-37ea3c0b65db"
      },
      "source": [
        "import numpy as np\n",
        "import pandas as pd\n",
        "\n",
        "\n",
        "rgb = [0,0,0]\n",
        "for i in range(3):\n",
        "    dim = np.zeros((np.array_split(x_train*255, 3)[i].shape[0], 28, 28))\n",
        "    if i == 0:\n",
        "        rgb[i] = np.stack((np.array_split(x_train*255, 3)[i].reshape(np.array_split(x_train*255, 3)[i].shape[0], 28, 28), dim, dim), axis = 3)\n",
        "    if i == 1:\n",
        "        rgb[i] = np.stack((dim, np.array_split(x_train*255, 3)[i].reshape(np.array_split(x_train*255, 3)[i].shape[0], 28, 28), dim), axis = 3)\n",
        "    if i == 2:\n",
        "        rgb[i] = np.stack((dim, dim, np.array_split(x_train*255, 3)[i].reshape(np.array_split(x_train*255, 3)[i].shape[0], 28, 28)), axis = 3)\n",
        "\n",
        "mnist_rgb = np.concatenate((rgb[0], rgb[1], rgb[2]))\n",
        "\n",
        "\n",
        "fig = plt.figure(figsize=(25, 4))\n",
        "for idx in np.arange(20):\n",
        "    images = mnist_rgb[15000*(idx%4):(15000)*(idx%4)+20]\n",
        "    labels = y_train[15000*(idx%4):(15000)*(idx%4)+20]\n",
        "    ax = fig.add_subplot(2, 20/2, idx+1, xticks=[], yticks=[])\n",
        "    ax.imshow(images[idx]/255)\n",
        "    ax.set_title(str(labels[idx].item()))\n"
      ],
      "execution_count": 19,
      "outputs": [
        {
          "output_type": "display_data",
          "data": {
            "image/png": "[encoded data removed]",
            "text/plain": [
              "<Figure size 1800x288 with 20 Axes>"
            ]
          },
          "metadata": {}
        }
      ]
    }
  ]
}